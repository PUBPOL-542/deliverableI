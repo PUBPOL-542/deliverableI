{
 "cells": [
  {
   "cell_type": "code",
   "execution_count": null,
   "id": "ed43555e",
   "metadata": {},
   "outputs": [],
   "source": [
    "import pandas as pd\n",
    "\n",
    "gitCloudRepo='https://github.com/PUBPOL-542/guided1/raw/main/'\n",
    "fileName=\"export-4.csv\"\n",
    "\n",
    "DFcsv=pd.read_csv(gitCloudRepo + fileName)"
   ]
  }
 ],
 "metadata": {
  "kernelspec": {
   "display_name": "Python 3 (ipykernel)",
   "language": "python",
   "name": "python3"
  },
  "language_info": {
   "codemirror_mode": {
    "name": "ipython",
    "version": 3
   },
   "file_extension": ".py",
   "mimetype": "text/x-python",
   "name": "python",
   "nbconvert_exporter": "python",
   "pygments_lexer": "ipython3",
   "version": "3.9.13"
  }
 },
 "nbformat": 4,
 "nbformat_minor": 5
}
